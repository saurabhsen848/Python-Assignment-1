{
 "cells": [
  {
   "cell_type": "markdown",
   "id": "2841994f",
   "metadata": {},
   "source": [
    "# Python Assignment 1 Report\n"
   ]
  },
  {
   "cell_type": "markdown",
   "id": "a5048d8e",
   "metadata": {},
   "source": [
    "### Name: Saurabh Sen"
   ]
  },
  {
   "cell_type": "markdown",
   "id": "5e5238d5",
   "metadata": {},
   "source": [
    "### Course: BCA (Sec A)"
   ]
  },
  {
   "cell_type": "markdown",
   "id": "98246bc2",
   "metadata": {},
   "source": [
    "### Registration Number: PROV/BCA/7/24/001"
   ]
  },
  {
   "cell_type": "markdown",
   "id": "02b347db",
   "metadata": {},
   "source": [
    "### GitHub Repository Link: [GitHub](https://github.com/saurabhsen848/Python-Assignment-1)"
   ]
  },
  {
   "cell_type": "markdown",
   "id": "26e083d0",
   "metadata": {},
   "source": [
    "## Part 1: Operators"
   ]
  },
  {
   "cell_type": "markdown",
   "id": "bbf04868",
   "metadata": {},
   "source": [
    "### Exercise 1: Arithmetic Operators"
   ]
  },
  {
   "cell_type": "code",
   "execution_count": 1,
   "id": "2bca986c",
   "metadata": {},
   "outputs": [
    {
     "name": "stdin",
     "output_type": "stream",
     "text": [
      "Enter first number:  5.5\n",
      "Enter second number:  3.3\n"
     ]
    },
    {
     "name": "stdout",
     "output_type": "stream",
     "text": [
      "Addition: 8.8\n",
      "Subtraction: 2.2\n",
      "Multiplication: 18.15\n",
      "Division: 1.67\n",
      "Modulus: 2.2\n",
      "Exponentiation: 277.457759723262\n",
      "Floor Division: 1.0\n"
     ]
    }
   ],
   "source": [
    "a = float(input(\"Enter first number: \"))\n",
    "b = float(input(\"Enter second number: \"))\n",
    "print(\"Addition:\", a + b)\n",
    "print(\"Subtraction:\", a - b)\n",
    "print(\"Multiplication:\", a * b)\n",
    "print(\"Division:\", round(a / b, 2))\n",
    "print(\"Modulus:\", a % b)\n",
    "print(\"Exponentiation:\", a ** b)\n",
    "print(\"Floor Division:\", a // b)\n"
   ]
  },
  {
   "cell_type": "markdown",
   "id": "bad876d3",
   "metadata": {},
   "source": [
    "### Exercise 2: Comparison Operators"
   ]
  },
  {
   "cell_type": "code",
   "execution_count": 2,
   "id": "b4ff56ae",
   "metadata": {},
   "outputs": [
    {
     "name": "stdin",
     "output_type": "stream",
     "text": [
      "Enter first number:  3.2\n",
      "Enter second number:  1.1\n"
     ]
    },
    {
     "name": "stdout",
     "output_type": "stream",
     "text": [
      "Is the first number greater than the second? True\n",
      "Are both numbers equal? False\n",
      "Is the first number less than or equal to the second? False\n"
     ]
    }
   ],
   "source": [
    "\n",
    "a = float(input(\"Enter first number: \"))\n",
    "b = float(input(\"Enter second number: \"))\n",
    "print(\"Is the first number greater than the second?\", a > b)\n",
    "print(\"Are both numbers equal?\", a == b)\n",
    "print(\"Is the first number less than or equal to the second?\", a <= b)\n"
   ]
  },
  {
   "cell_type": "markdown",
   "id": "faa6a957",
   "metadata": {},
   "source": [
    "### Exercise 3: Logical Operators"
   ]
  },
  {
   "cell_type": "code",
   "execution_count": 3,
   "id": "549fc500",
   "metadata": {},
   "outputs": [
    {
     "name": "stdin",
     "output_type": "stream",
     "text": [
      "Enter first boolean (0 for False, 1 for True):  0\n",
      "Enter second boolean (0 for False, 1 for True):  1\n",
      "Enter third boolean (0 for False, 1 for True):  1\n"
     ]
    },
    {
     "name": "stdout",
     "output_type": "stream",
     "text": [
      "AND operation result: False\n",
      "OR operation result: True\n",
      "Negation results: True False False\n"
     ]
    }
   ],
   "source": [
    "\n",
    "a = bool(int(input(\"Enter first boolean (0 for False, 1 for True): \")))\n",
    "b = bool(int(input(\"Enter second boolean (0 for False, 1 for True): \")))\n",
    "c = bool(int(input(\"Enter third boolean (0 for False, 1 for True): \")))\n",
    "print(\"AND operation result:\", a and b and c)\n",
    "print(\"OR operation result:\", a or b or c)\n",
    "print(\"Negation results:\", not a, not b, not c)\n"
   ]
  },
  {
   "cell_type": "markdown",
   "id": "1e8a1663",
   "metadata": {},
   "source": [
    "## Part 2: Strings"
   ]
  },
  {
   "cell_type": "markdown",
   "id": "262ac58d",
   "metadata": {},
   "source": [
    "### Exercise 4: String Manipulation"
   ]
  },
  {
   "cell_type": "code",
   "execution_count": 4,
   "id": "516feecf",
   "metadata": {},
   "outputs": [
    {
     "name": "stdin",
     "output_type": "stream",
     "text": [
      "Enter a string:  hello\n"
     ]
    },
    {
     "name": "stdout",
     "output_type": "stream",
     "text": [
      "Length of the string: 5\n",
      "First character: h\n",
      "Last character: o\n",
      "Reversed string: olleh\n",
      "Uppercase: HELLO\n",
      "Lowercase: hello\n"
     ]
    }
   ],
   "source": [
    "\n",
    "s = input(\"Enter a string: \")\n",
    "print(\"Length of the string:\", len(s))\n",
    "print(\"First character:\", s[0])\n",
    "print(\"Last character:\", s[-1])\n",
    "print(\"Reversed string:\", s[::-1])\n",
    "print(\"Uppercase:\", s.upper())\n",
    "print(\"Lowercase:\", s.lower())\n"
   ]
  },
  {
   "cell_type": "markdown",
   "id": "839b0ae1",
   "metadata": {},
   "source": [
    "### Exercise 5: String Formatting"
   ]
  },
  {
   "cell_type": "code",
   "execution_count": 5,
   "id": "419a4a1d",
   "metadata": {},
   "outputs": [
    {
     "name": "stdin",
     "output_type": "stream",
     "text": [
      "Enter your name:  saurabh\n",
      "Enter your age:  22\n"
     ]
    },
    {
     "name": "stdout",
     "output_type": "stream",
     "text": [
      "Hello saurabh, you are 22 years old.\n"
     ]
    }
   ],
   "source": [
    "\n",
    "name = input(\"Enter your name: \")\n",
    "age = input(\"Enter your age: \")\n",
    "print(f\"Hello {name}, you are {age} years old.\")\n"
   ]
  },
  {
   "cell_type": "markdown",
   "id": "ee51bcdf",
   "metadata": {},
   "source": [
    "### Exercise 6: Substring Search"
   ]
  },
  {
   "cell_type": "code",
   "execution_count": 6,
   "id": "2421a82e",
   "metadata": {},
   "outputs": [
    {
     "name": "stdin",
     "output_type": "stream",
     "text": [
      "Enter a sentence:  hello. i love python\n",
      "Enter a word to search for:  python\n"
     ]
    },
    {
     "name": "stdout",
     "output_type": "stream",
     "text": [
      "The word 'python' is found at index 14.\n"
     ]
    }
   ],
   "source": [
    "\n",
    "sentence = input(\"Enter a sentence: \")\n",
    "word = input(\"Enter a word to search for: \")\n",
    "index = sentence.find(word)\n",
    "if index != -1:\n",
    "    print(f\"The word '{word}' is found at index {index}.\")\n",
    "else:\n",
    "    print(f\"The word '{word}' is not found in the sentence.\")\n"
   ]
  },
  {
   "cell_type": "markdown",
   "id": "8cc8f5fc",
   "metadata": {},
   "source": [
    "## Part 3: Lists"
   ]
  },
  {
   "cell_type": "markdown",
   "id": "bedfb5c3",
   "metadata": {},
   "source": [
    "### Exercise 7: List Operations"
   ]
  },
  {
   "cell_type": "code",
   "execution_count": 7,
   "id": "b4265ec3",
   "metadata": {},
   "outputs": [
    {
     "name": "stdin",
     "output_type": "stream",
     "text": [
      "Enter number 1:  11\n",
      "Enter number 2:  12.1\n",
      "Enter number 3:  13\n",
      "Enter number 4:  14.4\n",
      "Enter number 5:  4.4\n"
     ]
    },
    {
     "name": "stdout",
     "output_type": "stream",
     "text": [
      "Sum of numbers: 54.9\n",
      "Largest number: 14.4\n",
      "Smallest number: 4.4\n"
     ]
    }
   ],
   "source": [
    "\n",
    "numbers = [float(input(f\"Enter number {i + 1}: \")) for i in range(5)]\n",
    "print(\"Sum of numbers:\", sum(numbers))\n",
    "print(\"Largest number:\", max(numbers))\n",
    "print(\"Smallest number:\", min(numbers))\n"
   ]
  },
  {
   "cell_type": "markdown",
   "id": "b515c87b",
   "metadata": {},
   "source": [
    "### Exercise 8: List Manipulation"
   ]
  },
  {
   "cell_type": "code",
   "execution_count": 8,
   "id": "d345cb6a",
   "metadata": {},
   "outputs": [
    {
     "name": "stdout",
     "output_type": "stream",
     "text": [
      "Updated fruit list: ['Apple', 'Cherry', 'Mango', 'Grapes', 'Orange']\n"
     ]
    }
   ],
   "source": [
    "\n",
    "fruits = [\"Apple\", \"Banana\", \"Cherry\", \"Mango\", \"Grapes\"]\n",
    "fruits.append(\"Orange\")\n",
    "fruits.remove(\"Banana\")\n",
    "print(\"Updated fruit list:\", fruits)\n"
   ]
  },
  {
   "cell_type": "markdown",
   "id": "a46eb983",
   "metadata": {},
   "source": [
    "### Exercise 9: Sorting a List"
   ]
  },
  {
   "cell_type": "code",
   "execution_count": 9,
   "id": "8387778b",
   "metadata": {},
   "outputs": [
    {
     "name": "stdin",
     "output_type": "stream",
     "text": [
      "Enter number 1:  3\n",
      "Enter number 2:  2\n",
      "Enter number 3:  5\n",
      "Enter number 4:  1\n",
      "Enter number 5:  6\n"
     ]
    },
    {
     "name": "stdout",
     "output_type": "stream",
     "text": [
      "Ascending order: [1.0, 2.0, 3.0, 5.0, 6.0]\n",
      "Descending order: [6.0, 5.0, 3.0, 2.0, 1.0]\n"
     ]
    }
   ],
   "source": [
    "\n",
    "numbers = [float(input(f\"Enter number {i + 1}: \")) for i in range(5)]\n",
    "print(\"Ascending order:\", sorted(numbers))\n",
    "print(\"Descending order:\", sorted(numbers, reverse=True))\n"
   ]
  },
  {
   "cell_type": "markdown",
   "id": "3f1557f3",
   "metadata": {},
   "source": [
    "### Exercise 10: List Slicing"
   ]
  },
  {
   "cell_type": "code",
   "execution_count": 10,
   "id": "d4c323b8",
   "metadata": {},
   "outputs": [
    {
     "name": "stdout",
     "output_type": "stream",
     "text": [
      "First 5 elements: [1, 2, 3, 4, 5]\n",
      "Last 5 elements: [6, 7, 8, 9, 10]\n",
      "Elements from index 2 to 7: [3, 4, 5, 6, 7, 8]\n"
     ]
    }
   ],
   "source": [
    "\n",
    "numbers = [1, 2, 3, 4, 5, 6, 7, 8, 9, 10]\n",
    "print(\"First 5 elements:\", numbers[:5])\n",
    "print(\"Last 5 elements:\", numbers[-5:])\n",
    "print(\"Elements from index 2 to 7:\", numbers[2:8])\n"
   ]
  },
  {
   "cell_type": "markdown",
   "id": "b560ee95",
   "metadata": {},
   "source": [
    "### Exercise 11: Nested List"
   ]
  },
  {
   "cell_type": "code",
   "execution_count": 11,
   "id": "4e39130c",
   "metadata": {},
   "outputs": [
    {
     "name": "stdin",
     "output_type": "stream",
     "text": [
      "Enter the name of student 1:  saurabh\n",
      "Enter score 1 for 1:  95\n",
      "Enter score 2 for 1:  85\n",
      "Enter score 3 for 1:  92\n",
      "Enter the name of student 2:  abc\n",
      "Enter score 1 for 2:  80\n",
      "Enter score 2 for 2:  85\n",
      "Enter score 3 for 2:  90\n",
      "Enter the name of student 3:  ghi\n",
      "Enter score 1 for 3:  22\n",
      "Enter score 2 for 3:  95\n",
      "Enter score 3 for 3:  68\n"
     ]
    },
    {
     "name": "stdout",
     "output_type": "stream",
     "text": [
      "saurabh's average score is 90.67\n",
      "abc's average score is 85.00\n",
      "ghi's average score is 61.67\n"
     ]
    }
   ],
   "source": [
    "\n",
    "students = [[input(f\"Enter the name of student {i + 1}: \"), \n",
    "             [float(input(f\"Enter score 1 for {i + 1}: \")), \n",
    "              float(input(f\"Enter score 2 for {i + 1}: \")), \n",
    "              float(input(f\"Enter score 3 for {i + 1}: \"))]] for i in range(3)]\n",
    "for student in students:\n",
    "    name = student[0]\n",
    "    scores = student[1]\n",
    "    average_score = sum(scores) / len(scores)\n",
    "    print(f\"{name}'s average score is {average_score:.2f}\")\n"
   ]
  }
 ],
 "metadata": {
  "kernelspec": {
   "display_name": "Python 3 (ipykernel)",
   "language": "python",
   "name": "python3"
  },
  "language_info": {
   "codemirror_mode": {
    "name": "ipython",
    "version": 3
   },
   "file_extension": ".py",
   "mimetype": "text/x-python",
   "name": "python",
   "nbconvert_exporter": "python",
   "pygments_lexer": "ipython3",
   "version": "3.11.9"
  }
 },
 "nbformat": 4,
 "nbformat_minor": 5
}
